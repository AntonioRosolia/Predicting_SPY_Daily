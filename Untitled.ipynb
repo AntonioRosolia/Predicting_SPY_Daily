{
 "cells": [
  {
   "cell_type": "code",
   "execution_count": 3,
   "metadata": {},
   "outputs": [],
   "source": [
    "import pandas as pd\n",
    "from sklearn.cluster import KMeans"
   ]
  },
  {
   "cell_type": "code",
   "execution_count": 11,
   "metadata": {},
   "outputs": [
    {
     "data": {
      "text/html": [
       "<div>\n",
       "<style scoped>\n",
       "    .dataframe tbody tr th:only-of-type {\n",
       "        vertical-align: middle;\n",
       "    }\n",
       "\n",
       "    .dataframe tbody tr th {\n",
       "        vertical-align: top;\n",
       "    }\n",
       "\n",
       "    .dataframe thead th {\n",
       "        text-align: right;\n",
       "    }\n",
       "</style>\n",
       "<table border=\"1\" class=\"dataframe\">\n",
       "  <thead>\n",
       "    <tr style=\"text-align: right;\">\n",
       "      <th></th>\n",
       "      <th>VOLUME</th>\n",
       "      <th>OPEN</th>\n",
       "      <th>HIGH</th>\n",
       "      <th>LOW</th>\n",
       "      <th>CLOSE</th>\n",
       "      <th>Return</th>\n",
       "    </tr>\n",
       "    <tr>\n",
       "      <th>DATE</th>\n",
       "      <th></th>\n",
       "      <th></th>\n",
       "      <th></th>\n",
       "      <th></th>\n",
       "      <th></th>\n",
       "      <th></th>\n",
       "    </tr>\n",
       "  </thead>\n",
       "  <tbody>\n",
       "    <tr>\n",
       "      <th>1993-02-01</th>\n",
       "      <td>480500.0</td>\n",
       "      <td>43.968944</td>\n",
       "      <td>44.249887</td>\n",
       "      <td>43.968655</td>\n",
       "      <td>44.250101</td>\n",
       "      <td>0.711487</td>\n",
       "    </tr>\n",
       "    <tr>\n",
       "      <th>1993-02-02</th>\n",
       "      <td>201300.0</td>\n",
       "      <td>44.218879</td>\n",
       "      <td>44.374910</td>\n",
       "      <td>44.124961</td>\n",
       "      <td>44.343823</td>\n",
       "      <td>0.211800</td>\n",
       "    </tr>\n",
       "    <tr>\n",
       "      <th>1993-02-03</th>\n",
       "      <td>529400.0</td>\n",
       "      <td>44.406412</td>\n",
       "      <td>44.843856</td>\n",
       "      <td>44.375026</td>\n",
       "      <td>44.343823</td>\n",
       "      <td>0.000000</td>\n",
       "    </tr>\n",
       "    <tr>\n",
       "      <th>1993-02-04</th>\n",
       "      <td>531500.0</td>\n",
       "      <td>44.968638</td>\n",
       "      <td>45.093704</td>\n",
       "      <td>44.874975</td>\n",
       "      <td>44.999975</td>\n",
       "      <td>1.479691</td>\n",
       "    </tr>\n",
       "    <tr>\n",
       "      <th>1993-02-05</th>\n",
       "      <td>492100.0</td>\n",
       "      <td>44.968727</td>\n",
       "      <td>45.062578</td>\n",
       "      <td>44.718757</td>\n",
       "      <td>44.968792</td>\n",
       "      <td>-0.069295</td>\n",
       "    </tr>\n",
       "  </tbody>\n",
       "</table>\n",
       "</div>"
      ],
      "text/plain": [
       "              VOLUME       OPEN       HIGH        LOW      CLOSE    Return\n",
       "DATE                                                                      \n",
       "1993-02-01  480500.0  43.968944  44.249887  43.968655  44.250101  0.711487\n",
       "1993-02-02  201300.0  44.218879  44.374910  44.124961  44.343823  0.211800\n",
       "1993-02-03  529400.0  44.406412  44.843856  44.375026  44.343823  0.000000\n",
       "1993-02-04  531500.0  44.968638  45.093704  44.874975  44.999975  1.479691\n",
       "1993-02-05  492100.0  44.968727  45.062578  44.718757  44.968792 -0.069295"
      ]
     },
     "execution_count": 11,
     "metadata": {},
     "output_type": "execute_result"
    }
   ],
   "source": [
    "df = pd.read_pickle(\"./df.pkl\")\n",
    "df = df.dropna()\n",
    "df.head()"
   ]
  },
  {
   "cell_type": "code",
   "execution_count": 12,
   "metadata": {},
   "outputs": [],
   "source": [
    "kmeans = KMeans(n_clusters=2, random_state=0).fit(df)"
   ]
  }
 ],
 "metadata": {
  "kernelspec": {
   "display_name": "Python 3",
   "language": "python",
   "name": "python3"
  },
  "language_info": {
   "codemirror_mode": {
    "name": "ipython",
    "version": 3
   },
   "file_extension": ".py",
   "mimetype": "text/x-python",
   "name": "python",
   "nbconvert_exporter": "python",
   "pygments_lexer": "ipython3",
   "version": "3.7.6"
  }
 },
 "nbformat": 4,
 "nbformat_minor": 4
}
